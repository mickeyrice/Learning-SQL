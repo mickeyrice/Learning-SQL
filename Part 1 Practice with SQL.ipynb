{
 "cells": [
  {
   "cell_type": "markdown",
   "id": "fc50dd93",
   "metadata": {},
   "source": [
    "# Practice Using SQL in Python Part 1\n",
    "\n",
    "This notebook practices creating datasets and answering queries using SQL. \n",
    "\n",
    "- The first cell installs the SQL package\n",
    "- The second cell loads the SQL extension\n",
    "- The third cell connects to the database SQLite\n",
    "- The following cells create 3 data sets \n",
    "- The following cells answer specific queries, based on this website: https://www.programmerinterview.com/database-sql/practice-interview-question-1/"
   ]
  },
  {
   "cell_type": "code",
   "execution_count": 82,
   "id": "b04d5ec1",
   "metadata": {},
   "outputs": [
    {
     "name": "stdout",
     "output_type": "stream",
     "text": [
      "Requirement already satisfied: ipython-sql in ./opt/anaconda3/lib/python3.9/site-packages (0.5.0)\n",
      "Requirement already satisfied: sqlalchemy>=2.0 in ./opt/anaconda3/lib/python3.9/site-packages (from ipython-sql) (2.0.31)\n",
      "Requirement already satisfied: ipython-genutils in ./opt/anaconda3/lib/python3.9/site-packages (from ipython-sql) (0.2.0)\n",
      "Requirement already satisfied: sqlparse in ./opt/anaconda3/lib/python3.9/site-packages (from ipython-sql) (0.5.0)\n",
      "Requirement already satisfied: ipython in ./opt/anaconda3/lib/python3.9/site-packages (from ipython-sql) (8.3.0)\n",
      "Requirement already satisfied: six in ./opt/anaconda3/lib/python3.9/site-packages (from ipython-sql) (1.16.0)\n",
      "Requirement already satisfied: prettytable in ./opt/anaconda3/lib/python3.9/site-packages (from ipython-sql) (3.10.0)\n",
      "Requirement already satisfied: typing-extensions>=4.6.0 in ./opt/anaconda3/lib/python3.9/site-packages (from sqlalchemy>=2.0->ipython-sql) (4.12.2)\n",
      "Requirement already satisfied: pexpect>4.3 in ./opt/anaconda3/lib/python3.9/site-packages (from ipython->ipython-sql) (4.8.0)\n",
      "Requirement already satisfied: appnope in ./opt/anaconda3/lib/python3.9/site-packages (from ipython->ipython-sql) (0.1.2)\n",
      "Requirement already satisfied: matplotlib-inline in ./opt/anaconda3/lib/python3.9/site-packages (from ipython->ipython-sql) (0.1.2)\n",
      "Requirement already satisfied: prompt-toolkit!=3.0.0,!=3.0.1,<3.1.0,>=2.0.0 in ./opt/anaconda3/lib/python3.9/site-packages (from ipython->ipython-sql) (3.0.20)\n",
      "Requirement already satisfied: pygments>=2.4.0 in ./opt/anaconda3/lib/python3.9/site-packages (from ipython->ipython-sql) (2.11.2)\n",
      "Requirement already satisfied: decorator in ./opt/anaconda3/lib/python3.9/site-packages (from ipython->ipython-sql) (5.1.1)\n",
      "Requirement already satisfied: stack-data in ./opt/anaconda3/lib/python3.9/site-packages (from ipython->ipython-sql) (0.2.0)\n",
      "Requirement already satisfied: pickleshare in ./opt/anaconda3/lib/python3.9/site-packages (from ipython->ipython-sql) (0.7.5)\n",
      "Requirement already satisfied: backcall in ./opt/anaconda3/lib/python3.9/site-packages (from ipython->ipython-sql) (0.2.0)\n",
      "Requirement already satisfied: setuptools>=18.5 in ./opt/anaconda3/lib/python3.9/site-packages (from ipython->ipython-sql) (61.2.0)\n",
      "Requirement already satisfied: traitlets>=5 in ./opt/anaconda3/lib/python3.9/site-packages (from ipython->ipython-sql) (5.1.1)\n",
      "Requirement already satisfied: jedi>=0.16 in ./opt/anaconda3/lib/python3.9/site-packages (from ipython->ipython-sql) (0.18.1)\n",
      "Requirement already satisfied: parso<0.9.0,>=0.8.0 in ./opt/anaconda3/lib/python3.9/site-packages (from jedi>=0.16->ipython->ipython-sql) (0.8.3)\n",
      "Requirement already satisfied: ptyprocess>=0.5 in ./opt/anaconda3/lib/python3.9/site-packages (from pexpect>4.3->ipython->ipython-sql) (0.7.0)\n",
      "Requirement already satisfied: wcwidth in ./opt/anaconda3/lib/python3.9/site-packages (from prompt-toolkit!=3.0.0,!=3.0.1,<3.1.0,>=2.0.0->ipython->ipython-sql) (0.2.5)\n",
      "Requirement already satisfied: executing in ./opt/anaconda3/lib/python3.9/site-packages (from stack-data->ipython->ipython-sql) (0.8.3)\n",
      "Requirement already satisfied: asttokens in ./opt/anaconda3/lib/python3.9/site-packages (from stack-data->ipython->ipython-sql) (2.0.5)\n",
      "Requirement already satisfied: pure-eval in ./opt/anaconda3/lib/python3.9/site-packages (from stack-data->ipython->ipython-sql) (0.2.2)\n"
     ]
    }
   ],
   "source": [
    "# Install the necessary package\n",
    "!pip install ipython-sql"
   ]
  },
  {
   "cell_type": "code",
   "execution_count": 83,
   "id": "f01a3fbb",
   "metadata": {},
   "outputs": [
    {
     "name": "stdout",
     "output_type": "stream",
     "text": [
      "The sql extension is already loaded. To reload it, use:\n",
      "  %reload_ext sql\n"
     ]
    }
   ],
   "source": [
    "# Load the ipython-sql extension:\n",
    "%load_ext sql"
   ]
  },
  {
   "cell_type": "code",
   "execution_count": 84,
   "id": "fde0181e",
   "metadata": {},
   "outputs": [],
   "source": [
    "# Connect to a database. I will be using SQLite:\n",
    "%sql sqlite:///my_database.db"
   ]
  },
  {
   "cell_type": "markdown",
   "id": "dbffa021",
   "metadata": {},
   "source": [
    "### Create table: salesperson"
   ]
  },
  {
   "cell_type": "code",
   "execution_count": 42,
   "id": "5e6936c4",
   "metadata": {},
   "outputs": [
    {
     "name": "stdout",
     "output_type": "stream",
     "text": [
      " * sqlite:///my_database.db\n",
      "(sqlite3.OperationalError) table salesperson already exists\n",
      "[SQL: CREATE TABLE salesperson (\n",
      "    ID INTEGER,\n",
      "    name TEXT,\n",
      "    age INTEGER,\n",
      "    salary INTEGER );]\n",
      "(Background on this error at: https://sqlalche.me/e/20/e3q8)\n"
     ]
    }
   ],
   "source": [
    "%%sql\n",
    "CREATE TABLE salesperson (\n",
    "    ID INTEGER,\n",
    "    name TEXT,\n",
    "    age INTEGER,\n",
    "    salary INTEGER );"
   ]
  },
  {
   "cell_type": "markdown",
   "id": "209a8241",
   "metadata": {},
   "source": [
    "### Add data to table: salesperson"
   ]
  },
  {
   "cell_type": "code",
   "execution_count": 38,
   "id": "f1c5b73e",
   "metadata": {},
   "outputs": [
    {
     "name": "stdout",
     "output_type": "stream",
     "text": [
      " * sqlite:///my_database.db\n",
      "1 rows affected.\n",
      "1 rows affected.\n",
      "1 rows affected.\n",
      "1 rows affected.\n",
      "1 rows affected.\n",
      "1 rows affected.\n",
      "Done.\n"
     ]
    },
    {
     "data": {
      "text/html": [
       "<table>\n",
       "    <thead>\n",
       "        <tr>\n",
       "            <th>ID</th>\n",
       "            <th>name</th>\n",
       "            <th>age</th>\n",
       "            <th>salary</th>\n",
       "        </tr>\n",
       "    </thead>\n",
       "    <tbody>\n",
       "        <tr>\n",
       "            <td>1</td>\n",
       "            <td>Abe</td>\n",
       "            <td>61</td>\n",
       "            <td>140000</td>\n",
       "        </tr>\n",
       "        <tr>\n",
       "            <td>2</td>\n",
       "            <td>Bob</td>\n",
       "            <td>34</td>\n",
       "            <td>44000</td>\n",
       "        </tr>\n",
       "        <tr>\n",
       "            <td>5</td>\n",
       "            <td>Chris</td>\n",
       "            <td>34</td>\n",
       "            <td>40000</td>\n",
       "        </tr>\n",
       "        <tr>\n",
       "            <td>7</td>\n",
       "            <td>Dan</td>\n",
       "            <td>41</td>\n",
       "            <td>52000</td>\n",
       "        </tr>\n",
       "        <tr>\n",
       "            <td>8</td>\n",
       "            <td>Ken</td>\n",
       "            <td>57</td>\n",
       "            <td>115000</td>\n",
       "        </tr>\n",
       "        <tr>\n",
       "            <td>11</td>\n",
       "            <td>Joe</td>\n",
       "            <td>58</td>\n",
       "            <td>38000</td>\n",
       "        </tr>\n",
       "    </tbody>\n",
       "</table>"
      ],
      "text/plain": [
       "[(1, 'Abe', 61, 140000),\n",
       " (2, 'Bob', 34, 44000),\n",
       " (5, 'Chris', 34, 40000),\n",
       " (7, 'Dan', 41, 52000),\n",
       " (8, 'Ken', 57, 115000),\n",
       " (11, 'Joe', 58, 38000)]"
      ]
     },
     "execution_count": 38,
     "metadata": {},
     "output_type": "execute_result"
    }
   ],
   "source": [
    "%%sql\n",
    "INSERT INTO salesperson (ID, name, age, salary) VALUES (1, 'Abe', 61, 140000);\n",
    "INSERT INTO salesperson (ID, name, age, salary) VALUES (2, 'Bob', 34, 44000);\n",
    "INSERT INTO salesperson (ID, name, age, salary) VALUES (5, 'Chris', 34, 40000);\n",
    "INSERT INTO salesperson (ID, name, age, salary) VALUES (7, 'Dan', 41, 52000);\n",
    "INSERT INTO salesperson (ID, name, age, salary) VALUES (8, 'Ken', 57, 115000);\n",
    "INSERT INTO salesperson (ID, name, age, salary) VALUES (11, 'Joe', 58, 38000);\n",
    "\n",
    "SELECT * FROM salesperson;"
   ]
  },
  {
   "cell_type": "markdown",
   "id": "2947e050",
   "metadata": {},
   "source": [
    "### Create table and add data: customer"
   ]
  },
  {
   "cell_type": "code",
   "execution_count": 43,
   "id": "b73b3158",
   "metadata": {},
   "outputs": [
    {
     "name": "stdout",
     "output_type": "stream",
     "text": [
      " * sqlite:///my_database.db\n",
      "Done.\n",
      "1 rows affected.\n",
      "1 rows affected.\n",
      "1 rows affected.\n",
      "1 rows affected.\n",
      "Done.\n"
     ]
    },
    {
     "data": {
      "text/html": [
       "<table>\n",
       "    <thead>\n",
       "        <tr>\n",
       "            <th>ID</th>\n",
       "            <th>name</th>\n",
       "            <th>city</th>\n",
       "            <th>industry_type</th>\n",
       "        </tr>\n",
       "    </thead>\n",
       "    <tbody>\n",
       "        <tr>\n",
       "            <td>4</td>\n",
       "            <td>Samsonic</td>\n",
       "            <td>pleasant</td>\n",
       "            <td>J</td>\n",
       "        </tr>\n",
       "        <tr>\n",
       "            <td>6</td>\n",
       "            <td>Panasung</td>\n",
       "            <td>oaktown</td>\n",
       "            <td>J</td>\n",
       "        </tr>\n",
       "        <tr>\n",
       "            <td>7</td>\n",
       "            <td>Samony</td>\n",
       "            <td>jackson</td>\n",
       "            <td>B</td>\n",
       "        </tr>\n",
       "        <tr>\n",
       "            <td>9</td>\n",
       "            <td>Orange</td>\n",
       "            <td>Jackson</td>\n",
       "            <td>B</td>\n",
       "        </tr>\n",
       "    </tbody>\n",
       "</table>"
      ],
      "text/plain": [
       "[(4, 'Samsonic', 'pleasant', 'J'),\n",
       " (6, 'Panasung', 'oaktown', 'J'),\n",
       " (7, 'Samony', 'jackson', 'B'),\n",
       " (9, 'Orange', 'Jackson', 'B')]"
      ]
     },
     "execution_count": 43,
     "metadata": {},
     "output_type": "execute_result"
    }
   ],
   "source": [
    "%%sql\n",
    "CREATE TABLE customer (\n",
    "    ID INTEGER,\n",
    "    name TEXT,\n",
    "    city TEXT,\n",
    "    industry_type TEXT );\n",
    "\n",
    "INSERT INTO customer (ID, name, city, industry_type) VALUES (4, 'Samsonic', 'pleasant', 'J');\n",
    "INSERT INTO customer (ID, name, city, industry_type) VALUES (6, 'Panasung', 'oaktown', 'J');\n",
    "INSERT INTO customer (ID, name, city, industry_type) VALUES (7, 'Samony', 'jackson', 'B');\n",
    "INSERT INTO customer (ID, name, city, industry_type) VALUES (9, 'Orange', 'Jackson', 'B');\n",
    "\n",
    "SELECT * FROM customer;"
   ]
  },
  {
   "cell_type": "markdown",
   "id": "b034e6ac",
   "metadata": {},
   "source": [
    "### Create table and add data: orders"
   ]
  },
  {
   "cell_type": "code",
   "execution_count": 44,
   "id": "1f3688b4",
   "metadata": {},
   "outputs": [
    {
     "name": "stdout",
     "output_type": "stream",
     "text": [
      " * sqlite:///my_database.db\n",
      "Done.\n",
      "1 rows affected.\n",
      "1 rows affected.\n",
      "1 rows affected.\n",
      "1 rows affected.\n",
      "1 rows affected.\n",
      "1 rows affected.\n",
      "1 rows affected.\n",
      "Done.\n"
     ]
    },
    {
     "data": {
      "text/html": [
       "<table>\n",
       "    <thead>\n",
       "        <tr>\n",
       "            <th>Number</th>\n",
       "            <th>order_date</th>\n",
       "            <th>cust_id</th>\n",
       "            <th>salesperson_id</th>\n",
       "            <th>Amount</th>\n",
       "        </tr>\n",
       "    </thead>\n",
       "    <tbody>\n",
       "        <tr>\n",
       "            <td>10</td>\n",
       "            <td>8/2/96</td>\n",
       "            <td>4</td>\n",
       "            <td>2</td>\n",
       "            <td>540</td>\n",
       "        </tr>\n",
       "        <tr>\n",
       "            <td>20</td>\n",
       "            <td>1/30/99</td>\n",
       "            <td>4</td>\n",
       "            <td>8</td>\n",
       "            <td>1800</td>\n",
       "        </tr>\n",
       "        <tr>\n",
       "            <td>30</td>\n",
       "            <td>7/14/95</td>\n",
       "            <td>9</td>\n",
       "            <td>1</td>\n",
       "            <td>460</td>\n",
       "        </tr>\n",
       "        <tr>\n",
       "            <td>40</td>\n",
       "            <td>1/29/98</td>\n",
       "            <td>7</td>\n",
       "            <td>2</td>\n",
       "            <td>2400</td>\n",
       "        </tr>\n",
       "        <tr>\n",
       "            <td>50</td>\n",
       "            <td>2/3/98</td>\n",
       "            <td>6</td>\n",
       "            <td>7</td>\n",
       "            <td>600</td>\n",
       "        </tr>\n",
       "        <tr>\n",
       "            <td>60</td>\n",
       "            <td>3/2/98</td>\n",
       "            <td>6</td>\n",
       "            <td>7</td>\n",
       "            <td>720</td>\n",
       "        </tr>\n",
       "        <tr>\n",
       "            <td>70</td>\n",
       "            <td>5/6/98</td>\n",
       "            <td>9</td>\n",
       "            <td>7</td>\n",
       "            <td>150</td>\n",
       "        </tr>\n",
       "    </tbody>\n",
       "</table>"
      ],
      "text/plain": [
       "[(10, '8/2/96', 4, 2, 540),\n",
       " (20, '1/30/99', 4, 8, 1800),\n",
       " (30, '7/14/95', 9, 1, 460),\n",
       " (40, '1/29/98', 7, 2, 2400),\n",
       " (50, '2/3/98', 6, 7, 600),\n",
       " (60, '3/2/98', 6, 7, 720),\n",
       " (70, '5/6/98', 9, 7, 150)]"
      ]
     },
     "execution_count": 44,
     "metadata": {},
     "output_type": "execute_result"
    }
   ],
   "source": [
    "%%sql\n",
    "CREATE TABLE orders (\n",
    "    Number INTEGER,\n",
    "    order_date TEXT,\n",
    "    cust_id INTEGER,\n",
    "    salesperson_id INTEGER,\n",
    "    Amount INTEGER);\n",
    "\n",
    "INSERT INTO orders (Number, order_date, cust_id, salesperson_id, Amount) VALUES (10, '8/2/96', 4, 2, 540);\n",
    "INSERT INTO orders (Number, order_date, cust_id, salesperson_id, Amount) VALUES (20, '1/30/99', 4, 8, 1800);\n",
    "INSERT INTO orders (Number, order_date, cust_id, salesperson_id, Amount) VALUES (30, '7/14/95', 9, 1, 460);\n",
    "INSERT INTO orders (Number, order_date, cust_id, salesperson_id, Amount) VALUES (40, '1/29/98', 7, 2, 2400);\n",
    "INSERT INTO orders (Number, order_date, cust_id, salesperson_id, Amount) VALUES (50, '2/3/98', 6, 7, 600);\n",
    "INSERT INTO orders (Number, order_date, cust_id, salesperson_id, Amount) VALUES (60, '3/2/98', 6, 7, 720);\n",
    "INSERT INTO orders (Number, order_date, cust_id, salesperson_id, Amount) VALUES (70, '5/6/98', 9, 7, 150);\n",
    "\n",
    "SELECT * FROM orders;"
   ]
  },
  {
   "cell_type": "markdown",
   "id": "a0b84a88",
   "metadata": {},
   "source": [
    "## Given the tables above, find the following:\n",
    "\n",
    "### a. The names of all salespeople that have an order with Samsonic."
   ]
  },
  {
   "cell_type": "code",
   "execution_count": 85,
   "id": "7bb2e21c",
   "metadata": {},
   "outputs": [
    {
     "name": "stdout",
     "output_type": "stream",
     "text": [
      " * sqlite:///my_database.db\n",
      "Done.\n"
     ]
    },
    {
     "data": {
      "text/html": [
       "<table>\n",
       "    <thead>\n",
       "        <tr>\n",
       "            <th>name</th>\n",
       "        </tr>\n",
       "    </thead>\n",
       "    <tbody>\n",
       "        <tr>\n",
       "            <td>Bob</td>\n",
       "        </tr>\n",
       "        <tr>\n",
       "            <td>Ken</td>\n",
       "        </tr>\n",
       "    </tbody>\n",
       "</table>"
      ],
      "text/plain": [
       "[('Bob',), ('Ken',)]"
      ]
     },
     "execution_count": 85,
     "metadata": {},
     "output_type": "execute_result"
    }
   ],
   "source": [
    "%%sql\n",
    "SELECT salesperson.name \n",
    "    FROM salesperson\n",
    "    INNER JOIN orders on salesperson.ID = orders.salesperson_id\n",
    "    WHERE cust_id = 4; "
   ]
  },
  {
   "cell_type": "markdown",
   "id": "dc418a8e",
   "metadata": {},
   "source": [
    "### b. The names of all salespeople that do not have any order with Samsonic."
   ]
  },
  {
   "cell_type": "code",
   "execution_count": 88,
   "id": "31d223fc",
   "metadata": {},
   "outputs": [
    {
     "name": "stdout",
     "output_type": "stream",
     "text": [
      " * sqlite:///my_database.db\n",
      "Done.\n"
     ]
    },
    {
     "data": {
      "text/html": [
       "<table>\n",
       "    <thead>\n",
       "        <tr>\n",
       "            <th>name</th>\n",
       "        </tr>\n",
       "    </thead>\n",
       "    <tbody>\n",
       "        <tr>\n",
       "            <td>Abe</td>\n",
       "        </tr>\n",
       "        <tr>\n",
       "            <td>Chris</td>\n",
       "        </tr>\n",
       "        <tr>\n",
       "            <td>Dan</td>\n",
       "        </tr>\n",
       "        <tr>\n",
       "            <td>Joe</td>\n",
       "        </tr>\n",
       "    </tbody>\n",
       "</table>"
      ],
      "text/plain": [
       "[('Abe',), ('Chris',), ('Dan',), ('Joe',)]"
      ]
     },
     "execution_count": 88,
     "metadata": {},
     "output_type": "execute_result"
    }
   ],
   "source": [
    "%%sql\n",
    "SELECT salesperson.name\n",
    "    FROM salesperson\n",
    "    WHERE salesperson.ID NOT IN (\n",
    "    SELECT orders.salesperson_id\n",
    "    FROM orders\n",
    "    INNER JOIN customer on orders.cust_id = customer.id \n",
    "    WHERE customer.name = 'Samsonic');"
   ]
  },
  {
   "cell_type": "markdown",
   "id": "69b08dad",
   "metadata": {},
   "source": [
    "### c. The names of salespeople that have 2 or more orders."
   ]
  },
  {
   "cell_type": "code",
   "execution_count": 89,
   "id": "304dad17",
   "metadata": {},
   "outputs": [
    {
     "name": "stdout",
     "output_type": "stream",
     "text": [
      " * sqlite:///my_database.db\n",
      "Done.\n"
     ]
    },
    {
     "data": {
      "text/html": [
       "<table>\n",
       "    <thead>\n",
       "        <tr>\n",
       "            <th>name</th>\n",
       "        </tr>\n",
       "    </thead>\n",
       "    <tbody>\n",
       "        <tr>\n",
       "            <td>Bob</td>\n",
       "        </tr>\n",
       "        <tr>\n",
       "            <td>Dan</td>\n",
       "        </tr>\n",
       "    </tbody>\n",
       "</table>"
      ],
      "text/plain": [
       "[('Bob',), ('Dan',)]"
      ]
     },
     "execution_count": 89,
     "metadata": {},
     "output_type": "execute_result"
    }
   ],
   "source": [
    "%%sql\n",
    "SELECT salesperson.name\n",
    "    FROM salesperson\n",
    "    INNER JOIN orders on salesperson.ID = orders.salesperson_id \n",
    "    GROUP BY salesperson_id \n",
    "    HAVING COUNT(salesperson_id) > 1"
   ]
  },
  {
   "cell_type": "markdown",
   "id": "7523cc93",
   "metadata": {},
   "source": [
    "### d. Write a SQL statement to insert rows into a table called highAchiever(Name, Age), where a salesperson must have a salary of 100,000 or greater to be included in the table."
   ]
  },
  {
   "cell_type": "code",
   "execution_count": 96,
   "id": "eb08e8fc",
   "metadata": {},
   "outputs": [
    {
     "name": "stdout",
     "output_type": "stream",
     "text": [
      " * sqlite:///my_database.db\n",
      "Done.\n",
      "Done.\n"
     ]
    },
    {
     "data": {
      "text/plain": [
       "[]"
      ]
     },
     "execution_count": 96,
     "metadata": {},
     "output_type": "execute_result"
    }
   ],
   "source": [
    "%%sql\n",
    "CREATE TABLE highAchiever(\n",
    "    Name TEXT, \n",
    "    Age INTEGER);"
   ]
  },
  {
   "cell_type": "code",
   "execution_count": 97,
   "id": "3f674875",
   "metadata": {},
   "outputs": [
    {
     "name": "stdout",
     "output_type": "stream",
     "text": [
      " * sqlite:///my_database.db\n",
      "Done.\n",
      "Done.\n"
     ]
    },
    {
     "data": {
      "text/html": [
       "<table>\n",
       "    <thead>\n",
       "        <tr>\n",
       "            <th>Name</th>\n",
       "            <th>Age</th>\n",
       "        </tr>\n",
       "    </thead>\n",
       "    <tbody>\n",
       "        <tr>\n",
       "            <td>Abe</td>\n",
       "            <td>61</td>\n",
       "        </tr>\n",
       "        <tr>\n",
       "            <td>Ken</td>\n",
       "            <td>57</td>\n",
       "        </tr>\n",
       "    </tbody>\n",
       "</table>"
      ],
      "text/plain": [
       "[('Abe', 61), ('Ken', 57)]"
      ]
     },
     "execution_count": 97,
     "metadata": {},
     "output_type": "execute_result"
    }
   ],
   "source": [
    "%%sql\n",
    "-- inserting rows into the table\n",
    "INSERT INTO highAchiever (Name, Age) \n",
    "SELECT name, age FROM salesperson where salary > 100000;\n",
    "    \n",
    "Select * FROM highAchiever"
   ]
  }
 ],
 "metadata": {
  "kernelspec": {
   "display_name": "Python 3 (ipykernel)",
   "language": "python",
   "name": "python3"
  },
  "language_info": {
   "codemirror_mode": {
    "name": "ipython",
    "version": 3
   },
   "file_extension": ".py",
   "mimetype": "text/x-python",
   "name": "python",
   "nbconvert_exporter": "python",
   "pygments_lexer": "ipython3",
   "version": "3.9.12"
  }
 },
 "nbformat": 4,
 "nbformat_minor": 5
}
