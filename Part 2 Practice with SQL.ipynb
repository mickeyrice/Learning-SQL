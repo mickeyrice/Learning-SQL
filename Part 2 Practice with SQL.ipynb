{
 "cells": [
  {
   "cell_type": "markdown",
   "id": "80d3e309",
   "metadata": {},
   "source": [
    "# Practice Using SQL in Python Part 2\n",
    "\n",
    "The following cells answer specific queries, based on this website: https://www.programmerinterview.com/database-sql/practice-interview-question-2/\n",
    "\n",
    "Background info: This question was asked in a Google interview: Given the 2 tables below, User and UserHistory:\n",
    "\n",
    "User: user_id, name, phone_num\n",
    "\n",
    "UserHistory: user_id, date, action"
   ]
  },
  {
   "cell_type": "code",
   "execution_count": 28,
   "id": "6bbcf813",
   "metadata": {},
   "outputs": [
    {
     "name": "stdout",
     "output_type": "stream",
     "text": [
      "Requirement already satisfied: ipython-sql in /Users/mickey.rice/opt/anaconda3/lib/python3.9/site-packages (0.5.0)\n",
      "Requirement already satisfied: ipython-genutils in /Users/mickey.rice/opt/anaconda3/lib/python3.9/site-packages (from ipython-sql) (0.2.0)\n",
      "Requirement already satisfied: sqlalchemy>=2.0 in /Users/mickey.rice/opt/anaconda3/lib/python3.9/site-packages (from ipython-sql) (2.0.31)\n",
      "Requirement already satisfied: sqlparse in /Users/mickey.rice/opt/anaconda3/lib/python3.9/site-packages (from ipython-sql) (0.5.0)\n",
      "Requirement already satisfied: ipython in /Users/mickey.rice/opt/anaconda3/lib/python3.9/site-packages (from ipython-sql) (8.3.0)\n",
      "Requirement already satisfied: six in /Users/mickey.rice/opt/anaconda3/lib/python3.9/site-packages (from ipython-sql) (1.16.0)\n",
      "Requirement already satisfied: prettytable in /Users/mickey.rice/opt/anaconda3/lib/python3.9/site-packages (from ipython-sql) (3.10.0)\n",
      "Requirement already satisfied: typing-extensions>=4.6.0 in /Users/mickey.rice/opt/anaconda3/lib/python3.9/site-packages (from sqlalchemy>=2.0->ipython-sql) (4.12.2)\n",
      "Requirement already satisfied: setuptools>=18.5 in /Users/mickey.rice/opt/anaconda3/lib/python3.9/site-packages (from ipython->ipython-sql) (61.2.0)\n",
      "Requirement already satisfied: backcall in /Users/mickey.rice/opt/anaconda3/lib/python3.9/site-packages (from ipython->ipython-sql) (0.2.0)\n",
      "Requirement already satisfied: pexpect>4.3 in /Users/mickey.rice/opt/anaconda3/lib/python3.9/site-packages (from ipython->ipython-sql) (4.8.0)\n",
      "Requirement already satisfied: pygments>=2.4.0 in /Users/mickey.rice/opt/anaconda3/lib/python3.9/site-packages (from ipython->ipython-sql) (2.11.2)\n",
      "Requirement already satisfied: prompt-toolkit!=3.0.0,!=3.0.1,<3.1.0,>=2.0.0 in /Users/mickey.rice/opt/anaconda3/lib/python3.9/site-packages (from ipython->ipython-sql) (3.0.20)\n",
      "Requirement already satisfied: traitlets>=5 in /Users/mickey.rice/opt/anaconda3/lib/python3.9/site-packages (from ipython->ipython-sql) (5.1.1)\n",
      "Requirement already satisfied: matplotlib-inline in /Users/mickey.rice/opt/anaconda3/lib/python3.9/site-packages (from ipython->ipython-sql) (0.1.2)\n",
      "Requirement already satisfied: pickleshare in /Users/mickey.rice/opt/anaconda3/lib/python3.9/site-packages (from ipython->ipython-sql) (0.7.5)\n",
      "Requirement already satisfied: stack-data in /Users/mickey.rice/opt/anaconda3/lib/python3.9/site-packages (from ipython->ipython-sql) (0.2.0)\n",
      "Requirement already satisfied: jedi>=0.16 in /Users/mickey.rice/opt/anaconda3/lib/python3.9/site-packages (from ipython->ipython-sql) (0.18.1)\n",
      "Requirement already satisfied: appnope in /Users/mickey.rice/opt/anaconda3/lib/python3.9/site-packages (from ipython->ipython-sql) (0.1.2)\n",
      "Requirement already satisfied: decorator in /Users/mickey.rice/opt/anaconda3/lib/python3.9/site-packages (from ipython->ipython-sql) (5.1.1)\n",
      "Requirement already satisfied: parso<0.9.0,>=0.8.0 in /Users/mickey.rice/opt/anaconda3/lib/python3.9/site-packages (from jedi>=0.16->ipython->ipython-sql) (0.8.3)\n",
      "Requirement already satisfied: ptyprocess>=0.5 in /Users/mickey.rice/opt/anaconda3/lib/python3.9/site-packages (from pexpect>4.3->ipython->ipython-sql) (0.7.0)\n",
      "Requirement already satisfied: wcwidth in /Users/mickey.rice/opt/anaconda3/lib/python3.9/site-packages (from prompt-toolkit!=3.0.0,!=3.0.1,<3.1.0,>=2.0.0->ipython->ipython-sql) (0.2.5)\n",
      "Requirement already satisfied: asttokens in /Users/mickey.rice/opt/anaconda3/lib/python3.9/site-packages (from stack-data->ipython->ipython-sql) (2.0.5)\n",
      "Requirement already satisfied: executing in /Users/mickey.rice/opt/anaconda3/lib/python3.9/site-packages (from stack-data->ipython->ipython-sql) (0.8.3)\n",
      "Requirement already satisfied: pure-eval in /Users/mickey.rice/opt/anaconda3/lib/python3.9/site-packages (from stack-data->ipython->ipython-sql) (0.2.2)\n",
      "The sql extension is already loaded. To reload it, use:\n",
      "  %reload_ext sql\n"
     ]
    }
   ],
   "source": [
    "# Install the necessary package\n",
    "!pip install ipython-sql\n",
    "\n",
    "# Load the ipython-sql extension:\n",
    "%load_ext sql\n",
    "\n",
    "# Connect to a database. I will be using SQLite:\n",
    "%sql sqlite:///my_database.db"
   ]
  },
  {
   "cell_type": "code",
   "execution_count": 36,
   "id": "9aee686f",
   "metadata": {},
   "outputs": [
    {
     "name": "stdout",
     "output_type": "stream",
     "text": [
      "   sqlite:///User.db\n",
      " * sqlite:///my_database.db\n",
      "Done.\n",
      "1 rows affected.\n",
      "1 rows affected.\n",
      "1 rows affected.\n",
      "1 rows affected.\n",
      "1 rows affected.\n",
      "Done.\n"
     ]
    },
    {
     "data": {
      "text/html": [
       "<table>\n",
       "    <thead>\n",
       "        <tr>\n",
       "            <th>user_id</th>\n",
       "            <th>name</th>\n",
       "            <th>phone_num</th>\n",
       "        </tr>\n",
       "    </thead>\n",
       "    <tbody>\n",
       "        <tr>\n",
       "            <td>1</td>\n",
       "            <td>Alice Johnson</td>\n",
       "            <td>555-1234</td>\n",
       "        </tr>\n",
       "        <tr>\n",
       "            <td>2</td>\n",
       "            <td>Bob Smith</td>\n",
       "            <td>555-5678</td>\n",
       "        </tr>\n",
       "        <tr>\n",
       "            <td>3</td>\n",
       "            <td>Charlie Brown</td>\n",
       "            <td>555-5678</td>\n",
       "        </tr>\n",
       "        <tr>\n",
       "            <td>4</td>\n",
       "            <td>Diana Prince</td>\n",
       "            <td>555-3456</td>\n",
       "        </tr>\n",
       "        <tr>\n",
       "            <td>5</td>\n",
       "            <td>Ethan Hunt</td>\n",
       "            <td>555-7890</td>\n",
       "        </tr>\n",
       "    </tbody>\n",
       "</table>"
      ],
      "text/plain": [
       "[(1, 'Alice Johnson', '555-1234'),\n",
       " (2, 'Bob Smith', '555-5678'),\n",
       " (3, 'Charlie Brown', '555-5678'),\n",
       " (4, 'Diana Prince', '555-3456'),\n",
       " (5, 'Ethan Hunt', '555-7890')]"
      ]
     },
     "execution_count": 36,
     "metadata": {},
     "output_type": "execute_result"
    }
   ],
   "source": [
    "%%sql\n",
    "-- Create table User\n",
    "CREATE TABLE IF NOT EXISTS User (\n",
    "    user_id INTEGER,\n",
    "    name TEXT,\n",
    "    phone_num TEXT);\n",
    "\n",
    "INSERT INTO User (user_id, name, phone_num) VALUES (1, 'Alice Johnson', '555-1234');\n",
    "INSERT INTO User (user_id, name, phone_num) VALUES (2, 'Bob Smith', '555-5678');\n",
    "INSERT INTO User (user_id, name, phone_num) VALUES (3, 'Charlie Brown', '555-5678');\n",
    "INSERT INTO User (user_id, name, phone_num) VALUES (4, 'Diana Prince', '555-3456');\n",
    "INSERT INTO User (user_id, name, phone_num) VALUES (5, 'Ethan Hunt', '555-7890');\n",
    "\n",
    "\n",
    "SELECT * FROM User;\n"
   ]
  },
  {
   "cell_type": "code",
   "execution_count": 71,
   "id": "06c6856d",
   "metadata": {},
   "outputs": [
    {
     "name": "stdout",
     "output_type": "stream",
     "text": [
      "   sqlite:///User.db\n",
      " * sqlite:///my_database.db\n",
      "Done.\n",
      "Done.\n",
      "1 rows affected.\n",
      "1 rows affected.\n",
      "1 rows affected.\n",
      "1 rows affected.\n",
      "1 rows affected.\n",
      "1 rows affected.\n",
      "1 rows affected.\n",
      "1 rows affected.\n",
      "1 rows affected.\n",
      "1 rows affected.\n",
      "1 rows affected.\n",
      "1 rows affected.\n",
      "1 rows affected.\n",
      "1 rows affected.\n",
      "1 rows affected.\n",
      "Done.\n"
     ]
    },
    {
     "data": {
      "text/html": [
       "<table>\n",
       "    <thead>\n",
       "        <tr>\n",
       "            <th>user_id</th>\n",
       "            <th>date</th>\n",
       "            <th>action</th>\n",
       "        </tr>\n",
       "    </thead>\n",
       "    <tbody>\n",
       "        <tr>\n",
       "            <td>1</td>\n",
       "            <td>2024-05-15</td>\n",
       "            <td>logged_on</td>\n",
       "        </tr>\n",
       "        <tr>\n",
       "            <td>3</td>\n",
       "            <td>2024-04-10</td>\n",
       "            <td>logged_on</td>\n",
       "        </tr>\n",
       "        <tr>\n",
       "            <td>4</td>\n",
       "            <td>2024-05-25</td>\n",
       "            <td>logged_on</td>\n",
       "        </tr>\n",
       "        <tr>\n",
       "            <td>5</td>\n",
       "            <td>2024-04-12</td>\n",
       "            <td>logged_on</td>\n",
       "        </tr>\n",
       "        <tr>\n",
       "            <td>9</td>\n",
       "            <td>2024-03-19</td>\n",
       "            <td>logged_on</td>\n",
       "        </tr>\n",
       "        <tr>\n",
       "            <td>1</td>\n",
       "            <td>2024-06-12</td>\n",
       "            <td>logged_on</td>\n",
       "        </tr>\n",
       "        <tr>\n",
       "            <td>3</td>\n",
       "            <td>2024-05-08</td>\n",
       "            <td>logged_on</td>\n",
       "        </tr>\n",
       "        <tr>\n",
       "            <td>4</td>\n",
       "            <td>2024-06-20</td>\n",
       "            <td>logged_on</td>\n",
       "        </tr>\n",
       "        <tr>\n",
       "            <td>5</td>\n",
       "            <td>2024-06-19</td>\n",
       "            <td>logged_on</td>\n",
       "        </tr>\n",
       "        <tr>\n",
       "            <td>9</td>\n",
       "            <td>2024-5-11</td>\n",
       "            <td>logged_on</td>\n",
       "        </tr>\n",
       "        <tr>\n",
       "            <td>1</td>\n",
       "            <td>2024-06-20</td>\n",
       "            <td>logged_on</td>\n",
       "        </tr>\n",
       "        <tr>\n",
       "            <td>3</td>\n",
       "            <td>2024-05-29</td>\n",
       "            <td>logged_on</td>\n",
       "        </tr>\n",
       "        <tr>\n",
       "            <td>4</td>\n",
       "            <td>2024-06-20</td>\n",
       "            <td>logged_on</td>\n",
       "        </tr>\n",
       "        <tr>\n",
       "            <td>5</td>\n",
       "            <td>2024-06-20</td>\n",
       "            <td>logged_on</td>\n",
       "        </tr>\n",
       "        <tr>\n",
       "            <td>9</td>\n",
       "            <td>2024-5-25</td>\n",
       "            <td>logged_on</td>\n",
       "        </tr>\n",
       "    </tbody>\n",
       "</table>"
      ],
      "text/plain": [
       "[(1, '2024-05-15', 'logged_on'),\n",
       " (3, '2024-04-10', 'logged_on'),\n",
       " (4, '2024-05-25', 'logged_on'),\n",
       " (5, '2024-04-12', 'logged_on'),\n",
       " (9, '2024-03-19', 'logged_on'),\n",
       " (1, '2024-06-12', 'logged_on'),\n",
       " (3, '2024-05-08', 'logged_on'),\n",
       " (4, '2024-06-20', 'logged_on'),\n",
       " (5, '2024-06-19', 'logged_on'),\n",
       " (9, '2024-5-11', 'logged_on'),\n",
       " (1, '2024-06-20', 'logged_on'),\n",
       " (3, '2024-05-29', 'logged_on'),\n",
       " (4, '2024-06-20', 'logged_on'),\n",
       " (5, '2024-06-20', 'logged_on'),\n",
       " (9, '2024-5-25', 'logged_on')]"
      ]
     },
     "execution_count": 71,
     "metadata": {},
     "output_type": "execute_result"
    }
   ],
   "source": [
    "%%sql\n",
    "-- Create table UserHistory\n",
    "\n",
    "CREATE TABLE IF NOT EXISTS UserHistory (\n",
    "    user_id INTEGER,\n",
    "    date DATE,\n",
    "    action TEXT);\n",
    "\n",
    "INSERT INTO UserHistory (user_id, date, action) VALUES (1, '2024-05-15', 'logged_on');\n",
    "INSERT INTO UserHistory (user_id, date, action) VALUES (3, '2024-04-10', 'logged_on');\n",
    "INSERT INTO UserHistory (user_id, date, action) VALUES (4, '2024-05-25', 'logged_on');\n",
    "INSERT INTO UserHistory (user_id, date, action) VALUES (5, '2024-04-12', 'logged_on');\n",
    "INSERT INTO UserHistory (user_id, date, action) VALUES (9, '2024-03-19', 'logged_on');\n",
    "INSERT INTO UserHistory (user_id, date, action) VALUES (1, '2024-06-12', 'logged_on');\n",
    "INSERT INTO UserHistory (user_id, date, action) VALUES (3, '2024-05-08', 'logged_on');\n",
    "INSERT INTO UserHistory (user_id, date, action) VALUES (4, '2024-06-20', 'logged_on');\n",
    "INSERT INTO UserHistory (user_id, date, action) VALUES (5, '2024-06-19', 'logged_on');\n",
    "INSERT INTO UserHistory (user_id, date, action) VALUES (9, '2024-5-11', 'logged_on');\n",
    "INSERT INTO UserHistory (user_id, date, action) VALUES (1, '2024-06-20', 'logged_on');\n",
    "INSERT INTO UserHistory (user_id, date, action) VALUES (3, '2024-05-29', 'logged_on');\n",
    "INSERT INTO UserHistory (user_id, date, action) VALUES (4, '2024-06-20', 'logged_on');\n",
    "INSERT INTO UserHistory (user_id, date, action) VALUES (5, '2024-06-20', 'logged_on');\n",
    "INSERT INTO UserHistory (user_id, date, action) VALUES (9, '2024-5-25', 'logged_on');\n",
    "\n",
    "\n",
    "SELECT * FROM UserHistory;\n"
   ]
  },
  {
   "cell_type": "markdown",
   "id": "66633aab",
   "metadata": {},
   "source": [
    "### 1. Write a SQL query that returns the name, phone number and most recent date for any user that has logged in over the last 30 days (you can tell a user has logged in if the action field in UserHistory is set to \"logged_on\").\n",
    "\n",
    "Every time a user logs in a new row is inserted into the UserHistory table with user_id, current date and action (where action = \"logged_on\").\n",
    "\n"
   ]
  },
  {
   "cell_type": "code",
   "execution_count": 74,
   "id": "5d17e88c",
   "metadata": {},
   "outputs": [
    {
     "name": "stdout",
     "output_type": "stream",
     "text": [
      "   sqlite:///User.db\n",
      " * sqlite:///my_database.db\n",
      "Done.\n"
     ]
    },
    {
     "data": {
      "text/html": [
       "<table>\n",
       "    <thead>\n",
       "        <tr>\n",
       "            <th>name</th>\n",
       "            <th>phone_num</th>\n",
       "            <th>MAX(UserHistory.date)</th>\n",
       "        </tr>\n",
       "    </thead>\n",
       "    <tbody>\n",
       "        <tr>\n",
       "            <td>Alice Johnson</td>\n",
       "            <td>555-1234</td>\n",
       "            <td>2024-06-20</td>\n",
       "        </tr>\n",
       "        <tr>\n",
       "            <td>Charlie Brown</td>\n",
       "            <td>555-5678</td>\n",
       "            <td>2024-05-29</td>\n",
       "        </tr>\n",
       "        <tr>\n",
       "            <td>Diana Prince</td>\n",
       "            <td>555-3456</td>\n",
       "            <td>2024-06-20</td>\n",
       "        </tr>\n",
       "        <tr>\n",
       "            <td>Ethan Hunt</td>\n",
       "            <td>555-7890</td>\n",
       "            <td>2024-06-20</td>\n",
       "        </tr>\n",
       "    </tbody>\n",
       "</table>"
      ],
      "text/plain": [
       "[('Alice Johnson', '555-1234', '2024-06-20'),\n",
       " ('Charlie Brown', '555-5678', '2024-05-29'),\n",
       " ('Diana Prince', '555-3456', '2024-06-20'),\n",
       " ('Ethan Hunt', '555-7890', '2024-06-20')]"
      ]
     },
     "execution_count": 74,
     "metadata": {},
     "output_type": "execute_result"
    }
   ],
   "source": [
    "%%sql\n",
    "\n",
    "SELECT User.name, User.phone_num, MAX(UserHistory.date)\n",
    "FROM User\n",
    "INNER JOIN UserHistory \n",
    "ON User.user_id = UserHistory.user_id \n",
    "WHERE UserHistory.date >= DATE('now', '-30 days')\n",
    "GROUP BY UserHistory.user_id;"
   ]
  },
  {
   "cell_type": "markdown",
   "id": "9f613e1c",
   "metadata": {},
   "source": [
    "### 2. Write a SQL query to determine which user_ids in the User table are not contained in the UserHistory table (assume the UserHistory table has a subset of the user_ids in User table). Do not use the SQL MINUS statement. \n",
    "\n",
    "Note: the UserHistory table can have multiple entries for each user_id.\n",
    "Note that your SQL should be compatible with MySQL 5.0, and avoid using subqueries."
   ]
  },
  {
   "cell_type": "code",
   "execution_count": 76,
   "id": "e8b44387",
   "metadata": {},
   "outputs": [
    {
     "name": "stdout",
     "output_type": "stream",
     "text": [
      "   sqlite:///User.db\n",
      " * sqlite:///my_database.db\n",
      "Done.\n"
     ]
    },
    {
     "data": {
      "text/html": [
       "<table>\n",
       "    <thead>\n",
       "        <tr>\n",
       "            <th>user_id</th>\n",
       "        </tr>\n",
       "    </thead>\n",
       "    <tbody>\n",
       "        <tr>\n",
       "            <td>2</td>\n",
       "        </tr>\n",
       "    </tbody>\n",
       "</table>"
      ],
      "text/plain": [
       "[(2,)]"
      ]
     },
     "execution_count": 76,
     "metadata": {},
     "output_type": "execute_result"
    }
   ],
   "source": [
    "%%sql\n",
    "\n",
    "SELECT DISTINCT User.user_id\n",
    "FROM USER\n",
    "LEFT JOIN UserHistory\n",
    "ON User.user_id = UserHistory.user_id\n",
    "WHERE UserHistory.user_id is null;"
   ]
  }
 ],
 "metadata": {
  "kernelspec": {
   "display_name": "Python 3 (ipykernel)",
   "language": "python",
   "name": "python3"
  },
  "language_info": {
   "codemirror_mode": {
    "name": "ipython",
    "version": 3
   },
   "file_extension": ".py",
   "mimetype": "text/x-python",
   "name": "python",
   "nbconvert_exporter": "python",
   "pygments_lexer": "ipython3",
   "version": "3.9.12"
  }
 },
 "nbformat": 4,
 "nbformat_minor": 5
}
