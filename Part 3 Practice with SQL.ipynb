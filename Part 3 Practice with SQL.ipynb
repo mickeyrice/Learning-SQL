{
 "cells": [
  {
   "cell_type": "markdown",
   "id": "66afba43",
   "metadata": {},
   "source": [
    "# Using SQL to combine two Excel files for my own research\n",
    "As part of my dissertation, I need to combine data from my screener (DEX.xlsx) with data from the in-person part of my study (PMD.xlsx). Previously I have joined these data files manually, but I realized SQL could help me. "
   ]
  },
  {
   "cell_type": "markdown",
   "id": "f929c905",
   "metadata": {},
   "source": [
    "## Load Excel files"
   ]
  },
  {
   "cell_type": "code",
   "execution_count": 2,
   "id": "35d2f6c4",
   "metadata": {},
   "outputs": [
    {
     "name": "stdout",
     "output_type": "stream",
     "text": [
      "Current Working Directory: /Users/mickey.rice/Desktop\n"
     ]
    }
   ],
   "source": [
    "import os\n",
    "# Change the Current Working Directory\n",
    "# Specify the new directory path\n",
    "new_directory = '/Users/mickey.rice/Desktop'\n",
    "\n",
    "# Change the current working directory\n",
    "os.chdir(new_directory)\n",
    "\n",
    "# Verify the change\n",
    "current_directory = os.getcwd()\n",
    "print(\"Current Working Directory:\", current_directory)"
   ]
  },
  {
   "cell_type": "code",
   "execution_count": 6,
   "id": "86254ef3",
   "metadata": {},
   "outputs": [],
   "source": [
    "import pandas as pd\n",
    "PMD = pd.read_excel('PMD.xlsx')\n",
    "DEX = pd.read_excel('DEX.xlsx')"
   ]
  },
  {
   "cell_type": "markdown",
   "id": "b9bfd927",
   "metadata": {},
   "source": [
    "## Create SQLite database"
   ]
  },
  {
   "cell_type": "code",
   "execution_count": 7,
   "id": "76882f2b",
   "metadata": {},
   "outputs": [],
   "source": [
    "import sqlite3\n",
    "\n",
    "# Create a connection to an in-memory SQLite database\n",
    "conn = sqlite3.connect(':memory:')"
   ]
  },
  {
   "cell_type": "markdown",
   "id": "d10915aa",
   "metadata": {},
   "source": [
    "## Load DataFrames into the SQLite Database"
   ]
  },
  {
   "cell_type": "code",
   "execution_count": 8,
   "id": "5442816a",
   "metadata": {},
   "outputs": [
    {
     "data": {
      "text/plain": [
       "136"
      ]
     },
     "execution_count": 8,
     "metadata": {},
     "output_type": "execute_result"
    }
   ],
   "source": [
    "# Write the dataframes to the SQLite database\n",
    "PMD.to_sql('table1', conn, index=False, if_exists='replace')\n",
    "DEX.to_sql('table2', conn, index=False, if_exists='replace')"
   ]
  },
  {
   "cell_type": "markdown",
   "id": "cc2e2cc1",
   "metadata": {},
   "source": [
    "## Perform the SQL Merge Query"
   ]
  },
  {
   "cell_type": "code",
   "execution_count": 15,
   "id": "e43abd0f",
   "metadata": {},
   "outputs": [],
   "source": [
    "# Perform the SQL merge query\n",
    "query = \"\"\"\n",
    "SELECT ID, Accuracy, PHQ9, DEXTOTAL, F1, F2, F3, F4, F5\n",
    "FROM table1\n",
    "JOIN table2\n",
    "ON table1.ID = table2.ID_Number\n",
    "\"\"\"\n",
    "\n",
    "# Execute the query and fetch the result into a pandas dataframe\n",
    "merged_df = pd.read_sql_query(query, conn)"
   ]
  },
  {
   "cell_type": "code",
   "execution_count": 16,
   "id": "190c3a1b",
   "metadata": {},
   "outputs": [
    {
     "name": "stdout",
     "output_type": "stream",
     "text": [
      "       ID   Accuracy  PHQ9  DEXTOTAL  F1  F2  F3  F4  F5\n",
      "0   PMD02  73.611111    16        53   9   8   6   8   5\n",
      "1   PMD03  76.388889    13        70  13  14  12  10   4\n",
      "2   PMD04  77.777778    13        59   8  10  11  11   7\n",
      "3   PMD05  68.055556    16        85  15  15  10  13  13\n",
      "4   PMD06  18.055556    10        53   5  10   9   9   7\n",
      "5   PMD08  94.444444    10        36   5   6   6   4   8\n",
      "6   PMD09  90.277778    16        38  11   5   5   7   4\n",
      "7   PMD10  27.777778    23        71  10  12   9  13  10\n",
      "8   PMD11  87.500000     3        39   5   8   5   4   7\n",
      "9   PMD12  93.055556    11        49   6  12   7   7   6\n",
      "10  PMD16  22.222222    14        52   6  13   7   9   5\n",
      "11  PMD17  62.500000     3        41   5   8   4   6   5\n",
      "12  PMD18  90.277778     2        38   4   8   6   7   5\n",
      "13  PMD19  94.444444    13        46   5   8  13   8   7\n",
      "14  PMD21  43.055556     3        32   7   6   3   4   5\n",
      "15  PMD22  81.944444     1        38   7   7   5   6   5\n",
      "16  PMD23  94.444444    17        28   5   5   6   3   3\n",
      "17  PMD24  88.888889    10        40   4   8   8   3   6\n",
      "18  PMD25  84.722222     3        55   9   9  10   7   8\n",
      "19  PMD26  62.500000    20        63   9  11   9  11   9\n",
      "20  PMD27  55.555556     3        79  13  13  13   9  11\n",
      "21  PMD28  36.111111    13        57   8   9   7   7  10\n",
      "22  PMD30  52.777778    18        44   8   6   9   5   6\n",
      "23  PMD31  95.833333     3        58   8  11   9  11   8\n",
      "24  PMD32  75.000000     3        34   4   6   8   4   4\n",
      "25  PMD33  65.277778    14        53   5  10  13  10   3\n",
      "26  PMD34  13.888889     0        55  10  12   5   8   8\n",
      "27  PMD35  90.277778    12        43   7   6   7   4   7\n",
      "28  PMD36  75.000000    11        41   4   9   4   6   9\n",
      "29  PMD37  58.333333    13        64  10  11  12   8   8\n",
      "30  PMD38  11.111111    24        83  14  13  14  15  10\n",
      "31  PMD39  86.111111    11        43   5   9   8   9   4\n",
      "32  PMD41  13.888889    12        72  11  14   9  13  10\n",
      "33  PMD42  75.000000     3        56  10   6   6  13   7\n",
      "34  PMD43  41.666667     2        41   7   8   8   7   5\n",
      "35  PMD44  63.888889    18        73  10  13   8  12   7\n",
      "36  PMD45  90.277778    16        51   8   7   9  10  10\n",
      "37  PMD46  93.055556    16        38   4   7   6   3   6\n",
      "38  PMD47  83.333333     2        54   7  10   8   8   8\n",
      "39  PMD48  48.611111    18        22   3   3   5   3   3\n",
      "40  PMD49  98.611111    11        33   4   4   6   6   3\n",
      "41  PMD50  97.222222     0        39   5   6   6   3   6\n",
      "42  PMD51  37.500000     3        29   4   6   5   3   4\n",
      "43  PMD52  94.444444     2        88  14  14  11  15  13\n",
      "44  PMD54  87.500000     0        38   5   5   5   8   6\n",
      "45  PMD56  91.666667     3        27   3   6   3   4   5\n",
      "46  PMD57  81.944444     2        24   3   4   3   5   3\n",
      "47  PMD58  95.833333     0        73  11  13  11  11   8\n",
      "48  PMD59  94.444444     0        25   3   3   5   4   4\n",
      "49  PMD60  91.666667    16        31   4   6   4   4   5\n",
      "50  PMD61  44.444444     3        21   4   3   3   3   3\n",
      "51  PMD62  94.444444     1        28   6   5   3   3   4\n",
      "52  PMD63  86.111111     0        45   7   9   7   5   5\n"
     ]
    }
   ],
   "source": [
    "# Display the merged dataframe\n",
    "print(merged_df)"
   ]
  },
  {
   "cell_type": "markdown",
   "id": "d644e25d",
   "metadata": {},
   "source": [
    "I can  now run statistics on the screener and in-person data!"
   ]
  },
  {
   "cell_type": "code",
   "execution_count": null,
   "id": "d0f21636",
   "metadata": {},
   "outputs": [],
   "source": []
  }
 ],
 "metadata": {
  "kernelspec": {
   "display_name": "Python 3 (ipykernel)",
   "language": "python",
   "name": "python3"
  },
  "language_info": {
   "codemirror_mode": {
    "name": "ipython",
    "version": 3
   },
   "file_extension": ".py",
   "mimetype": "text/x-python",
   "name": "python",
   "nbconvert_exporter": "python",
   "pygments_lexer": "ipython3",
   "version": "3.9.12"
  }
 },
 "nbformat": 4,
 "nbformat_minor": 5
}
