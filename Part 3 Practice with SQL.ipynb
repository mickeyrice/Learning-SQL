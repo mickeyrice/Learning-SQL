{
 "cells": [
  {
   "cell_type": "markdown",
   "id": "66afba43",
   "metadata": {},
   "source": [
    "# Using SQL to combine two Excel files for my own research\n",
    "As part of my dissertation, I need to combine data from my screener (DEX.xlsx) with data from the in-person part of my study (PMD.xlsx). Previously I have joined these data files manually, but I realized SQL could help me. "
   ]
  },
  {
   "cell_type": "markdown",
   "id": "f929c905",
   "metadata": {},
   "source": [
    "## Load Excel files"
   ]
  },
  {
   "cell_type": "code",
   "execution_count": 35,
   "id": "35d2f6c4",
   "metadata": {},
   "outputs": [
    {
     "name": "stdout",
     "output_type": "stream",
     "text": [
      "Current Working Directory: /Users/mickey.rice/Desktop\n"
     ]
    }
   ],
   "source": [
    "import os\n",
    "# Change the Current Working Directory\n",
    "# Specify the new directory path\n",
    "new_directory = '/Users/mickey.rice/Desktop'\n",
    "\n",
    "# Change the current working directory\n",
    "os.chdir(new_directory)\n",
    "\n",
    "# Verify the change\n",
    "current_directory = os.getcwd()\n",
    "print(\"Current Working Directory:\", current_directory)"
   ]
  },
  {
   "cell_type": "code",
   "execution_count": 36,
   "id": "86254ef3",
   "metadata": {},
   "outputs": [],
   "source": [
    "import pandas as pd\n",
    "PMD = pd.read_excel('PMD.xlsx')\n",
    "DEX = pd.read_excel('DEX.xlsx')"
   ]
  },
  {
   "cell_type": "markdown",
   "id": "b9bfd927",
   "metadata": {},
   "source": [
    "## Create SQLite database"
   ]
  },
  {
   "cell_type": "code",
   "execution_count": 37,
   "id": "76882f2b",
   "metadata": {},
   "outputs": [],
   "source": [
    "import sqlite3\n",
    "\n",
    "# Create a connection to an in-memory SQLite database\n",
    "conn = sqlite3.connect(':memory:')"
   ]
  },
  {
   "cell_type": "markdown",
   "id": "d10915aa",
   "metadata": {},
   "source": [
    "## Load DataFrames into the SQLite Database"
   ]
  },
  {
   "cell_type": "code",
   "execution_count": 38,
   "id": "5442816a",
   "metadata": {},
   "outputs": [
    {
     "data": {
      "text/plain": [
       "136"
      ]
     },
     "execution_count": 38,
     "metadata": {},
     "output_type": "execute_result"
    }
   ],
   "source": [
    "# Write the dataframes to the SQLite database\n",
    "PMD.to_sql('table1', conn, index=False, if_exists='replace')\n",
    "DEX.to_sql('table2', conn, index=False, if_exists='replace')"
   ]
  },
  {
   "cell_type": "markdown",
   "id": "cc2e2cc1",
   "metadata": {},
   "source": [
    "## Perform the SQL Merge Query"
   ]
  },
  {
   "cell_type": "code",
   "execution_count": 39,
   "id": "e43abd0f",
   "metadata": {},
   "outputs": [],
   "source": [
    "# Perform the SQL merge query\n",
    "query = \"\"\"\n",
    "SELECT ID, Accuracy, PHQ9, DEXTOTAL, F1, F2, F3, F4, F5\n",
    "FROM table1\n",
    "JOIN table2\n",
    "ON table1.ID = table2.ID_Number\n",
    "\"\"\"\n",
    "\n",
    "# Execute the query and fetch the result into a pandas dataframe\n",
    "merged_df = pd.read_sql_query(query, conn)"
   ]
  },
  {
   "cell_type": "code",
   "execution_count": 40,
   "id": "190c3a1b",
   "metadata": {},
   "outputs": [
    {
     "name": "stdout",
     "output_type": "stream",
     "text": [
      "       ID   Accuracy  PHQ9  DEXTOTAL  F1  F2  F3  F4  F5\n",
      "0   PMD02  73.611111    16        53   9   8   6   8   5\n",
      "1   PMD03  76.388889    13        70  13  14  12  10   4\n",
      "2   PMD04  77.777778    13        59   8  10  11  11   7\n",
      "3   PMD05  68.055556    16        85  15  15  10  13  13\n",
      "4   PMD06  18.055556    10        53   5  10   9   9   7\n",
      "5   PMD08  94.444444    10        36   5   6   6   4   8\n",
      "6   PMD09  90.277778    16        38  11   5   5   7   4\n",
      "7   PMD10  27.777778    23        71  10  12   9  13  10\n",
      "8   PMD11  87.500000     3        39   5   8   5   4   7\n",
      "9   PMD12  93.055556    11        49   6  12   7   7   6\n",
      "10  PMD16  22.222222    14        52   6  13   7   9   5\n",
      "11  PMD17  62.500000     3        41   5   8   4   6   5\n",
      "12  PMD18  90.277778     2        38   4   8   6   7   5\n",
      "13  PMD19  94.444444    13        46   5   8  13   8   7\n",
      "14  PMD21  43.055556     3        32   7   6   3   4   5\n",
      "15  PMD22  81.944444     1        38   7   7   5   6   5\n",
      "16  PMD23  94.444444    17        28   5   5   6   3   3\n",
      "17  PMD24  88.888889    10        40   4   8   8   3   6\n",
      "18  PMD25  84.722222     3        55   9   9  10   7   8\n",
      "19  PMD26  62.500000    20        63   9  11   9  11   9\n",
      "20  PMD27  55.555556     3        79  13  13  13   9  11\n",
      "21  PMD28  36.111111    13        57   8   9   7   7  10\n",
      "22  PMD30  52.777778    18        44   8   6   9   5   6\n",
      "23  PMD31  95.833333     3        58   8  11   9  11   8\n",
      "24  PMD32  75.000000     3        34   4   6   8   4   4\n",
      "25  PMD33  65.277778    14        53   5  10  13  10   3\n",
      "26  PMD34  13.888889     0        55  10  12   5   8   8\n",
      "27  PMD35  90.277778    12        43   7   6   7   4   7\n",
      "28  PMD36  75.000000    11        41   4   9   4   6   9\n",
      "29  PMD37  58.333333    13        64  10  11  12   8   8\n",
      "30  PMD38  11.111111    24        83  14  13  14  15  10\n",
      "31  PMD39  86.111111    11        43   5   9   8   9   4\n",
      "32  PMD41  13.888889    12        72  11  14   9  13  10\n",
      "33  PMD42  75.000000     3        56  10   6   6  13   7\n",
      "34  PMD43  41.666667     2        41   7   8   8   7   5\n",
      "35  PMD44  63.888889    18        73  10  13   8  12   7\n",
      "36  PMD45  90.277778    16        51   8   7   9  10  10\n",
      "37  PMD46  93.055556    16        38   4   7   6   3   6\n",
      "38  PMD47  83.333333     2        54   7  10   8   8   8\n",
      "39  PMD48  48.611111    18        22   3   3   5   3   3\n",
      "40  PMD49  98.611111    11        33   4   4   6   6   3\n",
      "41  PMD50  97.222222     0        39   5   6   6   3   6\n",
      "42  PMD51  37.500000     3        29   4   6   5   3   4\n",
      "43  PMD52  94.444444     2        88  14  14  11  15  13\n",
      "44  PMD54  87.500000     0        38   5   5   5   8   6\n",
      "45  PMD56  91.666667     3        27   3   6   3   4   5\n",
      "46  PMD57  81.944444     2        24   3   4   3   5   3\n",
      "47  PMD58  95.833333     0        73  11  13  11  11   8\n",
      "48  PMD59  94.444444     0        25   3   3   5   4   4\n",
      "49  PMD60  91.666667    16        31   4   6   4   4   5\n",
      "50  PMD61  44.444444     3        21   4   3   3   3   3\n",
      "51  PMD62  94.444444     1        28   6   5   3   3   4\n",
      "52  PMD63  86.111111     0        45   7   9   7   5   5\n"
     ]
    }
   ],
   "source": [
    "# Display the merged dataframe\n",
    "print(merged_df)"
   ]
  },
  {
   "cell_type": "markdown",
   "id": "d644e25d",
   "metadata": {},
   "source": [
    "I can  now run statistics on the screener and in-person data!"
   ]
  },
  {
   "cell_type": "markdown",
   "id": "9687e430",
   "metadata": {},
   "source": [
    "# Potential example queries for SQL"
   ]
  },
  {
   "cell_type": "markdown",
   "id": "7fc33085",
   "metadata": {},
   "source": [
    "## Provide all the ID numbers, DEX scores, and Accuracy for participants who have an accuracy score of 40, and a PHQ9 score less that 10"
   ]
  },
  {
   "cell_type": "code",
   "execution_count": 41,
   "id": "6f262d0b",
   "metadata": {},
   "outputs": [
    {
     "name": "stdout",
     "output_type": "stream",
     "text": [
      "       ID   Accuracy  DEXTOTAL\n",
      "0   PMD11  87.500000        39\n",
      "1   PMD17  62.500000        41\n",
      "2   PMD18  90.277778        38\n",
      "3   PMD21  43.055556        32\n",
      "4   PMD22  81.944444        38\n",
      "5   PMD25  84.722222        55\n",
      "6   PMD27  55.555556        79\n",
      "7   PMD31  95.833333        58\n",
      "8   PMD32  75.000000        34\n",
      "9   PMD42  75.000000        56\n",
      "10  PMD43  41.666667        41\n",
      "11  PMD47  83.333333        54\n",
      "12  PMD50  97.222222        39\n",
      "13  PMD52  94.444444        88\n",
      "14  PMD54  87.500000        38\n",
      "15  PMD56  91.666667        27\n",
      "16  PMD57  81.944444        24\n",
      "17  PMD58  95.833333        73\n",
      "18  PMD59  94.444444        25\n",
      "19  PMD61  44.444444        21\n",
      "20  PMD62  94.444444        28\n",
      "21  PMD63  86.111111        45\n"
     ]
    }
   ],
   "source": [
    "# Perform the SQL query\n",
    "query = \"\"\"\n",
    "SELECT ID, Accuracy, DEXTOTAL\n",
    "FROM table1\n",
    "JOIN table2\n",
    "ON table1.ID = table2.ID_Number\n",
    "WHERE Accuracy > 40\n",
    "AND PHQ9 < 10\n",
    "\"\"\"\n",
    "\n",
    "# Execute the query and fetch the result into a pandas dataframe\n",
    "show = pd.read_sql_query(query, conn)\n",
    "\n",
    "# Display the  dataframe\n",
    "print(show)"
   ]
  },
  {
   "cell_type": "markdown",
   "id": "19320ea4",
   "metadata": {},
   "source": [
    "## Provide all the ID numbers, DEX scores, Accuracy, and Gender for participants who are not male "
   ]
  },
  {
   "cell_type": "code",
   "execution_count": 46,
   "id": "775d3158",
   "metadata": {},
   "outputs": [
    {
     "name": "stdout",
     "output_type": "stream",
     "text": [
      "       ID   Accuracy  DEXTOTAL                              Gender\n",
      "0   PMD02  73.611111        53                              Female\n",
      "1   PMD03  76.388889        70                              Female\n",
      "2   PMD04  77.777778        59               Transgender Nonbinary\n",
      "3   PMD05  68.055556        85                              Female\n",
      "4   PMD06  18.055556        53                              Female\n",
      "5   PMD08  94.444444        36                              Female\n",
      "6   PMD09  90.277778        38                              Female\n",
      "7   PMD10  27.777778        71                              Female\n",
      "8   PMD11  87.500000        39                              Female\n",
      "9   PMD17  62.500000        41                              Female\n",
      "10  PMD18  90.277778        38                              Female\n",
      "11  PMD19  94.444444        46      Transgender Male/Trans Man/FTM\n",
      "12  PMD21  43.055556        32                              Female\n",
      "13  PMD22  81.944444        38                              Female\n",
      "14  PMD23  94.444444        28  Transgender Female/Trans Woman/MTF\n",
      "15  PMD24  88.888889        40                              Female\n",
      "16  PMD25  84.722222        55                              Female\n",
      "17  PMD26  62.500000        63      Transgender Male/Trans Man/FTM\n",
      "18  PMD27  55.555556        79                              Female\n",
      "19  PMD30  52.777778        44                              Female\n",
      "20  PMD32  75.000000        34                              Female\n",
      "21  PMD33  65.277778        53                              Female\n",
      "22  PMD34  13.888889        55                              Female\n",
      "23  PMD35  90.277778        43                        Gender Queer\n",
      "24  PMD36  75.000000        41                              Female\n",
      "25  PMD37  58.333333        64                              Female\n",
      "26  PMD38  11.111111        83                              Female\n",
      "27  PMD41  13.888889        72                              Female\n",
      "28  PMD43  41.666667        41                              Female\n",
      "29  PMD46  93.055556        38                              Female\n",
      "30  PMD47  83.333333        54                              Female\n",
      "31  PMD48  48.611111        22      Transgender Male/Trans Man/FTM\n",
      "32  PMD49  98.611111        33                              Female\n",
      "33  PMD50  97.222222        39                              Female\n",
      "34  PMD51  37.500000        29                              Female\n",
      "35  PMD52  94.444444        88                              Female\n",
      "36  PMD54  87.500000        38                        Gender Queer\n",
      "37  PMD56  91.666667        27                              Female\n",
      "38  PMD57  81.944444        24                              Female\n",
      "39  PMD60  91.666667        31                              Female\n",
      "40  PMD61  44.444444        21                              Female\n"
     ]
    }
   ],
   "source": [
    "# Perform the SQL query\n",
    "query = \"\"\"\n",
    "SELECT ID, Accuracy, DEXTOTAL, Gender\n",
    "FROM table1\n",
    "JOIN table2\n",
    "ON table1.ID = table2.ID_Number\n",
    "WHERE Gender <> \"Male\"\n",
    "\"\"\"\n",
    "\n",
    "# Execute the query and fetch the result into a pandas dataframe\n",
    "show1 = pd.read_sql_query(query, conn)\n",
    "\n",
    "# Display the  dataframe\n",
    "print(show1)"
   ]
  },
  {
   "cell_type": "markdown",
   "id": "e9c01925",
   "metadata": {},
   "source": [
    "## Provide all the ID numbers, DEX scores, Accuracy, Gender, and Age for participants who are between the ages of 20 and 22"
   ]
  },
  {
   "cell_type": "code",
   "execution_count": 51,
   "id": "21309f6f",
   "metadata": {},
   "outputs": [
    {
     "name": "stdout",
     "output_type": "stream",
     "text": [
      "       ID   Accuracy  DEXTOTAL  Gender   Age\n",
      "0   PMD11  87.500000        39  Female  22.0\n",
      "1   PMD28  36.111111        57    Male  20.0\n",
      "2   PMD31  95.833333        58    Male  20.0\n",
      "3   PMD38  11.111111        83  Female  22.0\n",
      "4   PMD42  75.000000        56    Male  22.0\n",
      "5   PMD44  63.888889        73    Male  25.0\n",
      "6   PMD51  37.500000        29  Female  20.0\n",
      "7   PMD56  91.666667        27  Female  21.0\n",
      "8   PMD60  91.666667        31  Female  20.0\n",
      "9   PMD61  44.444444        21  Female  20.0\n",
      "10  PMD62  94.444444        28    Male  22.0\n"
     ]
    }
   ],
   "source": [
    "# Perform the SQL query\n",
    "query = \"\"\"\n",
    "SELECT ID, Accuracy, DEXTOTAL, Gender, Age\n",
    "FROM table1\n",
    "JOIN table2\n",
    "ON table1.ID = table2.ID_Number\n",
    "WHERE Age BETWEEN 20 AND 25\n",
    "\"\"\"\n",
    "\n",
    "# Execute the query and fetch the result into a pandas dataframe\n",
    "show2 = pd.read_sql_query(query, conn)\n",
    "\n",
    "# Display the  dataframe\n",
    "print(show2)"
   ]
  },
  {
   "cell_type": "markdown",
   "id": "1b9d5e5c",
   "metadata": {},
   "source": [
    "## How many participants are male? How many are female? How many are transgender?\n",
    "Collapse the different types of transgender identities (Gender Queer, Transgender Female/Trans Woman/MTF, Transgender Male/Trans Man/FTM, Transgender Nonbinary) into one category called \"Transgender\""
   ]
  },
  {
   "cell_type": "code",
   "execution_count": 63,
   "id": "c9ce89c5",
   "metadata": {},
   "outputs": [
    {
     "name": "stdout",
     "output_type": "stream",
     "text": [
      "   participant_count gender_collapsed\n",
      "0                 34           Female\n",
      "1                 12             Male\n",
      "2                  7      Transgender\n"
     ]
    }
   ],
   "source": [
    "query = \"\"\"\n",
    "SELECT \n",
    "COUNT(*) AS participant_count, \n",
    "   CASE \n",
    "        WHEN table1.Gender IN ('Transgender Female/Trans Woman/MTF', 'Gender Queer', 'Nonbinary', 'Transgender Male/Trans Man/FTM', 'Transgender Nonbinary') THEN 'Transgender'\n",
    "        ELSE table1.Gender\n",
    "    END AS gender_collapsed\n",
    "FROM table1\n",
    "JOIN table2\n",
    "ON table1.ID = table2.ID_Number\n",
    "GROUP BY gender_collapsed\n",
    "\"\"\"\n",
    "\n",
    "# Execute the query and fetch the result into a pandas dataframe\n",
    "show3 = pd.read_sql_query(query, conn)\n",
    "\n",
    "# Display the  dataframe\n",
    "print(show3)"
   ]
  },
  {
   "cell_type": "markdown",
   "id": "e79f527f",
   "metadata": {},
   "source": [
    "## Give the average values of the DEX scores based on gender\n",
    "Collapse the different types of transgender identities (Gender Queer, Transgender Female/Trans Woman/MTF, Transgender Male/Trans Man/FTM, Transgender Nonbinary) into one category called \"Transgender\""
   ]
  },
  {
   "cell_type": "code",
   "execution_count": 66,
   "id": "2fd7838b",
   "metadata": {},
   "outputs": [
    {
     "name": "stdout",
     "output_type": "stream",
     "text": [
      "   average_DEX gender_collapsed\n",
      "0    48.205882           Female\n",
      "1    50.833333             Male\n",
      "2    42.714286      Transgender\n"
     ]
    }
   ],
   "source": [
    "query = \"\"\"\n",
    "SELECT \n",
    "AVG(DEXTOTAL) AS average_DEX, \n",
    "   CASE \n",
    "        WHEN table1.Gender IN ('Transgender Female/Trans Woman/MTF', 'Gender Queer', 'Nonbinary', 'Transgender Male/Trans Man/FTM', 'Transgender Nonbinary') THEN 'Transgender'\n",
    "        ELSE table1.Gender\n",
    "    END AS gender_collapsed\n",
    "FROM table1\n",
    "JOIN table2\n",
    "ON table1.ID = table2.ID_Number\n",
    "GROUP BY gender_collapsed\n",
    "\"\"\"\n",
    "\n",
    "# Execute the query and fetch the result into a pandas dataframe\n",
    "show4 = pd.read_sql_query(query, conn)\n",
    "\n",
    "# Display the  dataframe\n",
    "print(show4)"
   ]
  },
  {
   "cell_type": "markdown",
   "id": "0b724077",
   "metadata": {},
   "source": [
    "# Which gender groups have an average PHQ9 score greater than 10?\n",
    "Keep the gender categories collapsed!"
   ]
  },
  {
   "cell_type": "code",
   "execution_count": 67,
   "id": "95de3256",
   "metadata": {},
   "outputs": [
    {
     "name": "stdout",
     "output_type": "stream",
     "text": [
      "   average_PHQ9 gender_collapsed\n",
      "0     13.285714      Transgender\n"
     ]
    }
   ],
   "source": [
    "query = \"\"\"\n",
    "SELECT \n",
    "AVG(PHQ9) AS average_PHQ9, \n",
    "   CASE \n",
    "        WHEN table1.Gender IN ('Transgender Female/Trans Woman/MTF', 'Gender Queer', 'Nonbinary', 'Transgender Male/Trans Man/FTM', 'Transgender Nonbinary') THEN 'Transgender'\n",
    "        ELSE table1.Gender\n",
    "    END AS gender_collapsed\n",
    "FROM table1\n",
    "JOIN table2\n",
    "ON table1.ID = table2.ID_Number\n",
    "GROUP BY gender_collapsed\n",
    "HAVING AVG(PHQ9) > 10\n",
    "\"\"\"\n",
    "\n",
    "# Execute the query and fetch the result into a pandas dataframe\n",
    "show5 = pd.read_sql_query(query, conn)\n",
    "\n",
    "# Display the  dataframe\n",
    "print(show5)"
   ]
  }
 ],
 "metadata": {
  "kernelspec": {
   "display_name": "Python 3 (ipykernel)",
   "language": "python",
   "name": "python3"
  },
  "language_info": {
   "codemirror_mode": {
    "name": "ipython",
    "version": 3
   },
   "file_extension": ".py",
   "mimetype": "text/x-python",
   "name": "python",
   "nbconvert_exporter": "python",
   "pygments_lexer": "ipython3",
   "version": "3.9.12"
  }
 },
 "nbformat": 4,
 "nbformat_minor": 5
}
